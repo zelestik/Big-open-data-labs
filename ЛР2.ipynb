{
  "nbformat": 4,
  "nbformat_minor": 0,
  "metadata": {
    "colab": {
      "name": "ЛР2.ipynb",
      "provenance": [],
      "collapsed_sections": [],
      "authorship_tag": "ABX9TyNjwEWdquEpi0mGksGErtI1",
      "include_colab_link": true
    },
    "kernelspec": {
      "name": "python3",
      "display_name": "Python 3"
    },
    "language_info": {
      "name": "python"
    }
  },
  "cells": [
    {
      "cell_type": "markdown",
      "metadata": {
        "id": "view-in-github",
        "colab_type": "text"
      },
      "source": [
        "<a href=\"https://colab.research.google.com/github/zelestik/Big-open-data-labs/blob/main/%D0%9B%D0%A02.ipynb\" target=\"_parent\"><img src=\"https://colab.research.google.com/assets/colab-badge.svg\" alt=\"Open In Colab\"/></a>"
      ]
    },
    {
      "cell_type": "code",
      "metadata": {
        "id": "A6dX5olslCYP"
      },
      "source": [
        "import numpy as np\n",
        "import pandas as pd\n",
        "from sklearn.preprocessing import StandardScaler\n",
        "# from sklearn.preprocessing import LabelEncoder\n",
        "# from sklearn.preprocessing import OneHotEncoder\n",
        "\n",
        "\n",
        "df = pd.read_csv('winequality-red.csv', delimiter=\";\")\n",
        "\n",
        "# 1. Удалить пропуски\n",
        "df.dropna() \n",
        "# 2. Унифицировать качественные признаки\n",
        "\n",
        "# Качественные признаки отсутствуют\n",
        "\n",
        "# 3. Устранить выбросы\n",
        "\n",
        "# Списки для хранения мат ожидания и среднеквадратического отклонения по столбцам\n",
        "mList = []\n",
        "sList = []\n",
        "for col in df:\n",
        "  mList.append(np.median(df[col]))\n",
        "  sList.append(np.std(df[col]))\n",
        "  # Для каждой строки проверяем вхождение в доверительный интервал по текущему столбцу\n",
        "  for row in df[col]:\n",
        "    if (row > (mList[len(mList)-1] + 3* sList[len(sList)-1])) or (row < (mList[len(mList)-1] - 3* sList[len(sList)-1])):\n",
        "      row = np.NaN()\n",
        "df.dropna() \n",
        "\n",
        "# 4. Выровнять по объёму классы\n",
        "\n",
        "# перемешаем дата-сет (чтобы были удалены случайные строки)\n",
        "df = df.sample(frac=1) \n",
        "# посчитаем количество элементов для каждой метки\n",
        "array = df['quality'].value_counts() \n",
        "# метки, которым соответствует менее 10% элементов дата-сета - удалим\n",
        "labels_to_delete = array[array < (len(df) * 0.1)]\n",
        "for label in labels_to_delete.index:\n",
        "  df = df[df['quality'] != label]\n",
        "array = array[array > (len(df) * 0.1)] \n",
        "min = array.min()\n",
        "\n",
        "# Для каждой метки оставим количество записей соответствующее, \n",
        "# минимальному количеству записей для метки\n",
        "df = df.groupby('quality').head(min)\n",
        "\n",
        "# 5. Копия данных\n",
        "df.to_csv(\"DataSetCopy.csv\", sep=';')\n",
        "\n",
        "# 6. Преобразовать качественные признаки к количественным\n",
        "\n",
        "# Качественные признаки отсутствуют в датасете\n",
        "\n",
        "# 6.1. dt - LabelEncoder\n",
        "# 6.2 knn - OneHotEncoder\n",
        "\n",
        "# 8. Нормализация\n",
        "ss = StandardScaler()\n",
        "# Нормализуем\n",
        "scale = ss.fit_transform(df.loc[:, df.columns != 'quality'])\n",
        "# Исключаем поле с меткой\n",
        "cols = df.columns.to_list()\n",
        "cols.remove('quality')\n",
        "# Приводим к виду датасета\n",
        "new_df = pd.DataFrame(scale, index=df.index, columns=cols)\n",
        "# Добавляем метку к нормализованному датасетами\n",
        "new_df = new_df.merge(df['quality'], left_index=True, right_index=True)\n",
        "\n",
        "# Сохраняем полученный результат\n",
        "new_df.to_csv(\"DataSetFormated.csv\", sep=';')\n",
        "\n"
      ],
      "execution_count": null,
      "outputs": []
    },
    {
      "cell_type": "code",
      "metadata": {
        "id": "AVtNDljVFA5r"
      },
      "source": [
        ""
      ],
      "execution_count": null,
      "outputs": []
    }
  ]
}