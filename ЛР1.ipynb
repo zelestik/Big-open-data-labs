{
  "nbformat": 4,
  "nbformat_minor": 0,
  "metadata": {
    "colab": {
      "name": "ЛР1.ipynb",
      "provenance": [],
      "collapsed_sections": [],
      "authorship_tag": "ABX9TyM6mOEEqlOy3wv2bKr5t9PW",
      "include_colab_link": true
    },
    "kernelspec": {
      "name": "python3",
      "display_name": "Python 3"
    }
  },
  "cells": [
    {
      "cell_type": "markdown",
      "metadata": {
        "id": "view-in-github",
        "colab_type": "text"
      },
      "source": [
        "<a href=\"https://colab.research.google.com/github/zelestik/Big-open-data-labs/blob/main/%D0%9B%D0%A01.ipynb\" target=\"_parent\"><img src=\"https://colab.research.google.com/assets/colab-badge.svg\" alt=\"Open In Colab\"/></a>"
      ]
    },
    {
      "cell_type": "code",
      "metadata": {
        "colab": {
          "base_uri": "https://localhost:8080/",
          "height": 417
        },
        "id": "Ndij1JttU2r6",
        "outputId": "24759da4-0ed2-49f9-f96b-61f84b09c242"
      },
      "source": [
        "from PIL import Image, ImageDraw \n",
        "import pandas as pd\n",
        "import seaborn as sns\n",
        "import matplotlib.pyplot as plt\n",
        "import numpy as np\n",
        "import scipy.signal as s\n",
        " \n",
        "im = Image.open('plane.png', 'r')\n",
        "# Список цветов для точек\n",
        "imglist = list(im.getdata())\n",
        "# Список яркостей\n",
        "brlist = []\n",
        "# Заполняем список яркостей\n",
        "for img in imglist:\n",
        "  brlist.append(img[0]*0.299 + img[1]*0.587 + img[2]*0.114)\n",
        "# Data frame с яркостями\n",
        "data = pd.DataFrame(brlist)\n",
        "# Data frame с цветами (для формирования CSV)\n",
        "dataRGB = pd.DataFrame(imglist, columns=[\"r\", \"g\", \"b\"])\n",
        "# Список для хранения отметок о принадлежности точки к категории\n",
        "labels = []\n",
        "# Построение графика\n",
        "plt.figure()\n",
        "plt.xlabel(\"яркость\")\n",
        "plt.ylabel(\"пикселей\")\n",
        "gr = sns.distplot(data)\n",
        "# Список столбцов гистограммы \n",
        "barsX = []\n",
        "# Список высот столбцов гистограммы\n",
        "barsY = []\n",
        "# Проходим все столбцы гистограммы\n",
        "for rect in gr.patches:\n",
        "  ((x0, y0), (x1, y1)) = rect.get_bbox().get_points()\n",
        "  barsX.append(x0)\n",
        "  barsY.append(y1-y0)\n",
        "# Список локальных минимумов\n",
        "mins = np.array(s.argrelmin(np.array(barsY)))[0]\n",
        "# Отнесение точек к категориям, задание цвета\n",
        "for i in range(0, len(brlist)):\n",
        "  if ((brlist[i] > (barsX[mins[2]])) and (brlist[i] < (barsX[mins[3]]))):\n",
        "    labels.append(1)\n",
        "  elif ((brlist[i] > (0)) and (brlist[i] < (barsX[mins[1]]))):\n",
        "    # Закрашиваем наиболее темную область (самолёт)\n",
        "    imglist[i]= (255, 0, 0)\n",
        "    labels.append(2)\n",
        "  elif ((brlist[i] > (barsX[mins[3]])) and (brlist[i] < (barsX[mins[4]]))):\n",
        "    labels.append(3)\n",
        "  else:\n",
        "    labels.append(0)\n",
        "for min in mins:\n",
        "  print(barsX[min])\n",
        "dataRGB['label']=labels\n",
        "dataRGB.to_csv(\"rgb.csv\")\n",
        "im.close()\n",
        "im = Image.new('RGB', (1180, 730), (0, 0, 0))\n",
        "draw = ImageDraw.Draw(im)\n",
        "g = 0\n",
        "for i in range (0, 730):\n",
        "  for j in range (0, 1180):\n",
        "    draw.point([j, i], fill=imglist[g])\n",
        "    g = g + 1\n",
        "im.save(\"RedPlane.png\")"
      ],
      "execution_count": null,
      "outputs": [
        {
          "output_type": "stream",
          "text": [
            "/usr/local/lib/python3.7/dist-packages/seaborn/distributions.py:2557: FutureWarning: `distplot` is a deprecated function and will be removed in a future version. Please adapt your code to use either `displot` (a figure-level function with similar flexibility) or `histplot` (an axes-level function for histograms).\n",
            "  warnings.warn(msg, FutureWarning)\n"
          ],
          "name": "stderr"
        },
        {
          "output_type": "stream",
          "text": [
            "30.800639999999998\n",
            "61.373279999999994\n",
            "81.75504\n",
            "178.5684\n",
            "239.71368\n"
          ],
          "name": "stdout"
        },
        {
          "output_type": "display_data",
          "data": {
            "image/png": "[encoded data removed]",
            "text/plain": [
              "<Figure size 432x288 with 1 Axes>"
            ]
          },
          "metadata": {
            "tags": [],
            "needs_background": "light"
          }
        }
      ]
    }
  ]
}