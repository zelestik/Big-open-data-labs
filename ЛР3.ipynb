{
  "nbformat": 4,
  "nbformat_minor": 0,
  "metadata": {
    "colab": {
      "name": "ЛР3.ipynb",
      "provenance": [],
      "authorship_tag": "ABX9TyPCl8inC3qUmbz7C3ioHuan",
      "include_colab_link": true
    },
    "kernelspec": {
      "name": "python3",
      "display_name": "Python 3"
    },
    "language_info": {
      "name": "python"
    }
  },
  "cells": [
    {
      "cell_type": "markdown",
      "metadata": {
        "id": "view-in-github",
        "colab_type": "text"
      },
      "source": [
        "<a href=\"https://colab.research.google.com/github/zelestik/Big-open-data-labs/blob/main/%D0%9B%D0%A03.ipynb\" target=\"_parent\"><img src=\"https://colab.research.google.com/assets/colab-badge.svg\" alt=\"Open In Colab\"/></a>"
      ]
    },
    {
      "cell_type": "code",
      "metadata": {
        "id": "A6dX5olslCYP",
        "colab": {
          "base_uri": "https://localhost:8080/"
        },
        "outputId": "a131676a-b995-4fb7-9d8a-e313f6a16068"
      },
      "source": [
        "\n",
        "import numpy as np\n",
        "import pandas as pd\n",
        "from sklearn.model_selection import train_test_split\n",
        "from sklearn.preprocessing import StandardScaler\n",
        "from sklearn.neighbors import KNeighborsClassifier\n",
        "\n",
        "# (Задание 2) Функция проверяющая значения признаков классифицируемого объекта \n",
        "# на соответствие областям допустимых значений признаков и выявляющую аномальные объекты.\n",
        "def check(df):\n",
        "  i = 0\n",
        "  for col in df:\n",
        "    for cell in col:\n",
        "      if (cell > 3 or cell < -3):\n",
        "        return False\n",
        "  return True\n",
        "\n",
        "# Метод для предсказания метки по полученному объекту\n",
        "# Перед предсказанием данный метод стандартизирует данные и проверяет их на выбросы\n",
        "def predict(data):\n",
        "  req = pd.DataFrame(data)\n",
        "  req = ss.transform(req)\n",
        "  # Проверяем вхождение введённых данных в доверительный интервал\n",
        "  if check(req):\n",
        "    # Предсказываем метку для введённых данных\n",
        "    prediction = knn.predict(req)[0]\n",
        "    print(prediction)\n",
        "  else:\n",
        "    print(\"Аномалия\")\n",
        "\n",
        "df = pd.read_csv('DataSetCopy.csv', delimiter=\";\")\n",
        "# Списки мат ожидания и среднеквадратического отклонения для столбцов\n",
        "mList = []\n",
        "sList = []\n",
        "# Исклчение выбросов\n",
        "for col in df:\n",
        "  mList.append(np.median(df[col]))\n",
        "  sList.append(np.std(df[col]))\n",
        "  for num in df[col]:\n",
        "    if (num > (mList[len(mList)-1] + 3* sList[len(sList)-1])) or (num < (mList[len(mList)-1] - 3* sList[len(sList)-1])):\n",
        "      num = np.NaN\n",
        "# Исключение строк с пустыми значениями\n",
        "df.dropna()\n",
        "x_train, x_test, y_train, y_test = train_test_split(df.iloc[:, :-1], df['quality'], test_size=0.25, random_state=0)\n",
        "# Стандартизация данных (Задание 1)\n",
        "ss = StandardScaler()\n",
        "ss.fit(x_train)\n",
        "x_train.iloc[:, :] = ss.transform(x_train)\n",
        "x_test.iloc[:, :] = ss.transform(x_test)\n",
        "# Создание и тренировка классификатора (Задание 1)\n",
        "knn = KNeighborsClassifier(n_neighbors=15, metric='euclidean')\n",
        "knn.fit(x_train, y_train)\n",
        "# Предсказание для тестовых значений\n",
        "prediction = knn.predict(x_test)\n",
        "# print(x_test.assign(predict=prediction))\n",
        "# Оценка качества классификатора (Задание 1)\n",
        "print(\"Оценка качества классификатора\")\n",
        "print(format(knn.score(x_test, y_test)))\n",
        "\n",
        "# Варианты использования классификатора (Задание 3)\n",
        "# Вариант 1. Обычные данные.\n",
        "data = {'fixed acidity': [7],\n",
        "        'volatile acidity': [0.42],\n",
        "        'citric acid': [0.21],\n",
        "        'residual sugar': [2.5],\n",
        "        'chlorides': [0.092],\n",
        "        'free sulfur dioxide': [33],\n",
        "        'total sulfur dioxide': [88],\n",
        "        'density': [0.99823],\n",
        "        'pH': [3.19],\n",
        "        'sulphates': [0.52],\n",
        "        'alcohol': [9.2]}\n",
        "\n",
        "# Вариант 2. Данные, выходящие за пределы доверительного интервала.\n",
        "data_anomal = {'fixed acidity': [50],\n",
        "        'volatile acidity': [0.42],\n",
        "        'citric acid': [0.21],\n",
        "        'residual sugar': [2.5],\n",
        "        'chlorides': [0.092],\n",
        "        'free sulfur dioxide': [33],\n",
        "        'total sulfur dioxide': [88],\n",
        "        'density': [0.99823],\n",
        "        'pH': [3.19],\n",
        "        'sulphates': [0.52],\n",
        "        'alcohol': [9.2]}\n",
        "\n",
        "print(\"Вариант использования 1\")\n",
        "predict(data)\n",
        "print(\"Вариант использования 2\")\n",
        "predict(data_anomal)\n",
        "\n",
        "\n",
        "\n",
        "\n",
        "\n",
        "\n"
      ],
      "execution_count": null,
      "outputs": [
        {
          "output_type": "stream",
          "text": [
            "Оценка качества классификатора\n",
            "0.5666666666666667\n",
            "Вариант использования 1\n",
            "5\n",
            "Вариант использования 2\n",
            "Аномалия\n"
          ],
          "name": "stdout"
        }
      ]
    }
  ]
}